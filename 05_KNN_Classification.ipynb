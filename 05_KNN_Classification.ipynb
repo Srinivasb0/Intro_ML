{
 "cells": [
  {
   "cell_type": "markdown",
   "metadata": {},
   "source": [
    "The aim is to classify iris flowers among three species (setosa, versicolor or virginica) from measurements of length and width of sepals and petals.\n",
    "\n",
    "The iris data set contains 3 classes of 50 instances each, where each class refers to a type of iris plant.\n",
    "\n",
    "The central goal here is to design a model which makes good classifications for new flowers or, in other words, one which exhibits good generalization."
   ]
  },
  {
   "cell_type": "code",
   "execution_count": 1,
   "metadata": {
    "colab": {},
    "colab_type": "code",
    "id": "ac4E1G_5bmG1"
   },
   "outputs": [],
   "source": [
    "from sklearn import datasets \n",
    "import numpy as np \n",
    "import random \n",
    "import matplotlib.pyplot as plt "
   ]
  },
  {
   "cell_type": "code",
   "execution_count": 8,
   "metadata": {
    "colab": {},
    "colab_type": "code",
    "id": "5nwoH_5mbsMF"
   },
   "outputs": [],
   "source": [
    "# loading the iris data\n",
    "iris = datasets.load_iris() \n",
    "\n",
    "# slice for length and width of sepals and petals\n",
    "predictors = iris.data[:, 0:2]\n",
    "\n",
    "# slice for the 3 classes \n",
    "outcomes = iris.target "
   ]
  },
  {
   "cell_type": "markdown",
   "metadata": {
    "colab_type": "text",
    "id": "DqA_A5B9ha7F"
   },
   "source": [
    "### Visualizing"
   ]
  },
  {
   "cell_type": "markdown",
   "metadata": {},
   "source": [
    "Visualizing the setosa, versicolor or virginica flower distribution based on length and width of petals and sepals"
   ]
  },
  {
   "cell_type": "code",
   "execution_count": 9,
   "metadata": {
    "colab": {
     "base_uri": "https://localhost:8080/",
     "height": 326
    },
    "colab_type": "code",
    "id": "r9gwFxXjb4E_",
    "outputId": "a6f1d8e3-dd6d-4535-e400-dd7535c8774b"
   },
   "outputs": [
    {
     "data": {
      "text/plain": [
       "[<matplotlib.lines.Line2D at 0x1a16b15a90>]"
      ]
     },
     "execution_count": 9,
     "metadata": {},
     "output_type": "execute_result"
    },
    {
     "data": {
      "image/png": "[encoded data removed]",
      "text/plain": [
       "<Figure size 432x288 with 1 Axes>"
      ]
     },
     "metadata": {
      "needs_background": "light"
     },
     "output_type": "display_data"
    }
   ],
   "source": [
    "plt.plot(predictors[outcomes == 0][:, 0], predictors[outcomes == 0][:, 1], \"ro\") \n",
    "plt.plot(predictors[outcomes == 1][:, 0], predictors[outcomes == 1][:, 1], \"go\") \n",
    "plt.plot(predictors[outcomes == 2][:, 0], predictors[outcomes == 2][:, 1], \"bo\") \n",
    "\n"
   ]
  },
  {
   "cell_type": "markdown",
   "metadata": {
    "colab_type": "text",
    "id": "kQf51uwphPmd"
   },
   "source": [
    "### Model Training"
   ]
  },
  {
   "cell_type": "code",
   "execution_count": 10,
   "metadata": {
    "colab": {
     "base_uri": "https://localhost:8080/",
     "height": 76
    },
    "colab_type": "code",
    "id": "ewe-qXn0b-ff",
    "outputId": "66f2a766-4d84-4ff1-e67c-e3a8f7bd469f"
   },
   "outputs": [],
   "source": [
    "from sklearn.neighbors import KNeighborsClassifier #predictions from skikit \n",
    "knn = KNeighborsClassifier(n_neighbors = 5) \n",
    "knn.fit(predictors, outcomes) \n",
    "sk_predictions = knn.predict(predictors)\n",
    "\n",
    "predict = zip(sk_predictions, outcomes)"
   ]
  },
  {
   "cell_type": "code",
   "execution_count": 11,
   "metadata": {},
   "outputs": [
    {
     "name": "stdout",
     "output_type": "stream",
     "text": [
      "<zip object at 0x1a16b50d88>\n"
     ]
    }
   ],
   "source": [
    "print(predict)"
   ]
  },
  {
   "cell_type": "markdown",
   "metadata": {
    "colab_type": "text",
    "id": "lWzDest6gXY1"
   },
   "source": [
    "#### Model Accuracy"
   ]
  },
  {
   "cell_type": "code",
   "execution_count": 12,
   "metadata": {
    "colab": {
     "base_uri": "https://localhost:8080/",
     "height": 56
    },
    "colab_type": "code",
    "id": "6nMiFArwcgQx",
    "outputId": "014b038d-c813-4b8f-fd95-22585af4c814"
   },
   "outputs": [
    {
     "data": {
      "text/plain": [
       "0.8333333333333334"
      ]
     },
     "execution_count": 12,
     "metadata": {},
     "output_type": "execute_result"
    }
   ],
   "source": [
    "knn.score(predictors, outcomes)"
   ]
  },
  {
   "cell_type": "markdown",
   "metadata": {},
   "source": [
    "### Assignment - 1"
   ]
  },
  {
   "cell_type": "markdown",
   "metadata": {},
   "source": [
    "use the grid_search and train the algorithm with k=2,3,4,5 and find the best k\n",
    "\n",
    "#### Refer this link \n",
    "https://scikit-learn.org/stable/modules/generated/sklearn.model_selection.GridSearchCV.html"
   ]
  },
  {
   "cell_type": "code",
   "execution_count": null,
   "metadata": {},
   "outputs": [],
   "source": [
    "# your code here"
   ]
  },
  {
   "cell_type": "markdown",
   "metadata": {},
   "source": [
    "### Assignment - 2"
   ]
  },
  {
   "cell_type": "code",
   "execution_count": 0,
   "metadata": {
    "colab": {},
    "colab_type": "code",
    "id": "yraQeub7gUEb"
   },
   "outputs": [],
   "source": [
    " # Plot the Confusion Matrix and precision and Recall"
   ]
  }
 ],
 "metadata": {
  "colab": {
   "collapsed_sections": [],
   "name": "iris clf.ipynb",
   "provenance": []
  },
  "kernelspec": {
   "display_name": "Python 3",
   "language": "python3",
   "name": "python3"
  },
  "language_info": {
   "codemirror_mode": {
    "name": "ipython",
    "version": 3
   },
   "file_extension": ".py",
   "mimetype": "text/x-python",
   "name": "python",
   "nbconvert_exporter": "python",
   "pygments_lexer": "ipython3",
   "version": "3.6.8"
  }
 },
 "nbformat": 4,
 "nbformat_minor": 1
}
